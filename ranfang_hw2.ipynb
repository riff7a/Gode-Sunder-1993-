{
 "cells": [
  {
   "metadata": {},
   "cell_type": "markdown",
   "source": [
    "## Problem 1 \n",
    "<br> \n",
    "<p>Implement Shelling's (1969) model on a 2-D grid as discussed in the lecture. Specifically, compare the overall segregation between the case when the threshold is .35 and the case when the threshold is .65. To do this, carry out at least 1000 simulations to obtain the average evolution of the segregation measure for each case and plot two lines on the same graph to make the comparison clear. (Consider 10x10 grid to start)<p>"
   ]
  },
  {
   "cell_type": "code",
   "metadata": {
    "ExecuteTime": {
     "end_time": "2024-09-03T15:26:34.171281Z",
     "start_time": "2024-09-03T15:26:34.169Z"
    }
   },
   "source": [
    "import numpy as np\n",
    "import re"
   ],
   "outputs": [],
   "execution_count": 20
  },
  {
   "metadata": {
    "ExecuteTime": {
     "end_time": "2024-09-03T15:26:34.203251Z",
     "start_time": "2024-09-03T15:26:34.201321Z"
    }
   },
   "cell_type": "code",
   "source": [
    "def check_proportion(neighborhood,ownRace):\n",
    "    # input: neighborhood is an array, ownRace is a number \n",
    "    # output: proportion of neighbors of the same race\n",
    "    return np.mean(neighborhood==ownRace)"
   ],
   "outputs": [],
   "execution_count": 21
  },
  {
   "metadata": {
    "ExecuteTime": {
     "end_time": "2024-09-03T15:26:34.225298Z",
     "start_time": "2024-09-03T15:26:34.221954Z"
    }
   },
   "cell_type": "code",
   "source": [
    "def get_neighborhood(grid, i):\n",
    "    neighbors = []\n",
    "    # define the location and neighbors for the corners, edges, and inners in grid\n",
    "    corners = {\n",
    "        r\"^0$\": [1, 10, 11],  # top-left corner\n",
    "        r\"^9$\": [8, 18, 19],  # top-right corner\n",
    "        r\"^90$\": [80, 81, 91],  # bottom-left corner\n",
    "        r\"^99$\": [88, 89, 98],  # bottom-right corner\n",
    "    }\n",
    "    edges = {\n",
    "        r\"^[1-8]$\": [-1, 1, 9, 10, 11],  # top edge (excluding corners)\n",
    "        r\"^[1-9]0$\": [-10, -9, 1, 10, 11],  # left edge (excluding corners)\n",
    "        r\"^[1-9]9$\": [-11, -10, -1, 9, 10],  # right edge (excluding corners)\n",
    "        r\"^9[1-8]$\": [-11, -10, -9, -1, 1],  # bottom edge (excluding corners)\n",
    "    }\n",
    "    inners = [-11, -10, -9, -1, 1, 9, 10, 11]\n",
    "\n",
    "    for pattern, offsets in corners.items():\n",
    "        if re.match(pattern, str(i)):\n",
    "            neighbors = offsets\n",
    "            break\n",
    "    else:\n",
    "        for pattern, offsets in edges.items():\n",
    "            if re.match(pattern, str(i)):\n",
    "                neighbors = [i + offset for offset in offsets]\n",
    "                break\n",
    "        else:\n",
    "            neighbors = [i + offset for offset in inners]\n",
    "\n",
    "    hood = np.array([grid[n] for n in neighbors])\n",
    "    return hood"
   ],
   "outputs": [],
   "execution_count": 22
  },
  {
   "cell_type": "code",
   "metadata": {
    "ExecuteTime": {
     "end_time": "2024-09-03T15:26:34.229776Z",
     "start_time": "2024-09-03T15:26:34.226911Z"
    }
   },
   "source": [
    "class Agent:\n",
    "    # class definition of the Agent\n",
    "    \n",
    "    def __init__(self,location,race,neighbors,threshold):\n",
    "        # Initialize agent.\n",
    "        # location -- location of the agent\n",
    "        # race -- race of the agent\n",
    "        # neighborhood -- list of neighbors\n",
    "        # threshold -- similarity threshold\n",
    "\n",
    "        self.loc = location\n",
    "        self.race = race\n",
    "        self.neighborhood = neighbors\n",
    "        self.thresh = threshold\n",
    "        \n",
    "        \n",
    "    def satisfied(self): \n",
    "        # function that returns True of False depending if the threshold is met\n",
    "        return check_proportion(self.neighborhood,self.race)>=self.thresh\n",
    "    \n",
    "    \n",
    "    def segMetric(self):\n",
    "        # function that returns the proportion of neighbors of the same race \n",
    "        return check_proportion(self.neighborhood,self.race)\n",
    "    \n",
    "    \n",
    "    def moveToNewLoc(self,newLoc,newNeighbors): \n",
    "        # function that updates the new neighborhood info\n",
    "        self.loc=newLoc\n",
    "        self.neighborhood=copy.deepcopy(newNeighbors)\n",
    "    \n",
    "    \n",
    "    def __repr__(self):\n",
    "        return \"Location:\"+str(self.loc)+\" Race:\"+str(self.race)+\" Neighbors:\"+str(self.neighborhood)\n",
    "    \n",
    "    \n",
    "    def __str__(self):\n",
    "        return \"L\"+str(self.loc)"
   ],
   "outputs": [],
   "execution_count": 23
  },
  {
   "cell_type": "code",
   "metadata": {
    "ExecuteTime": {
     "end_time": "2024-09-03T15:26:34.232107Z",
     "start_time": "2024-09-03T15:26:34.230577Z"
    }
   },
   "source": [
    "import copy"
   ],
   "outputs": [],
   "execution_count": 24
  },
  {
   "cell_type": "code",
   "metadata": {
    "ExecuteTime": {
     "end_time": "2024-09-03T15:26:34.238878Z",
     "start_time": "2024-09-03T15:26:34.233451Z"
    }
   },
   "source": [
    "class Environment:\n",
    "    # class definition of the Environment\n",
    "    \n",
    "    def __init__(self, races, props, threshold, width=10, length=10, max_iter=1000):\n",
    "        # initialize environment.\n",
    "        # races -- array of races (e.g., [0,1,2]) with 0 denoting an empty space\n",
    "        # props -- proportion of races\n",
    "        # threshold -- similarity threshold\n",
    "        # width -- width of the grid\n",
    "        # length -- length of the grid\n",
    "        # max_iter -- maximum number of iterations\n",
    "        \n",
    "        self.width = width\n",
    "        self.length = length\n",
    "        self.races = races\n",
    "        self.props = props        \n",
    "        self.threshold = threshold\n",
    "        self.max_iter = max_iter\n",
    "        \n",
    "        self.agents = []\n",
    "        self.grid = []\n",
    "        self.two_d = []\n",
    "        self.available_locs=[]\n",
    "        self.all_satisfied=False\n",
    "        \n",
    "        \n",
    "    def resetLine(self):\n",
    "        self.grid=np.zeros(self.width*self.length)\n",
    "        self.available_locs=range(self.width*self.length)\n",
    "        for i in self.races[1:]:\n",
    "            locs=np.random.choice(self.available_locs,size=int(self.props[i]*self.width*self.length),replace=False)\n",
    "            self.grid[locs]=self.races[i]\n",
    "            self.available_locs=np.setdiff1d(self.available_locs,locs)\n",
    "           \n",
    "        self.agents = []\n",
    "        for i,r in enumerate(self.grid):\n",
    "            if r>0:\n",
    "                hood=get_neighborhood(self.grid,i)\n",
    "                self.agents.append(Agent(i,r,hood,self.threshold))\n",
    "                \n",
    "    \n",
    "    def oneMoveEach(self):\n",
    "        self.all_satisfied = True # set it to true, if encounter anyone that is not satisfied then set it to false\n",
    "        for a in self.agents:\n",
    "            \n",
    "            if not a.satisfied():\n",
    "                self.all_satisfied = False\n",
    "                oldLoc=a.loc\n",
    "                newLoc=np.random.choice(self.available_locs,size=1)[0]\n",
    "                \n",
    "                self.grid[oldLoc]=0\n",
    "                self.grid[newLoc]=a.race\n",
    "                self.available_locs=np.setdiff1d(self.available_locs,newLoc)\n",
    "                \n",
    "                newHood=get_neighborhood(self.grid,newLoc)\n",
    "                a.moveToNewLoc(newLoc,newHood)\n",
    "                self.available_locs=np.append(self.available_locs,np.array([oldLoc]),axis=0)\n",
    "            \n",
    "    \n",
    "    def runUntilConverged(self):\n",
    "        res = []\n",
    "        seg = []\n",
    "        step=0\n",
    "        sim=[]\n",
    "        while not self.all_satisfied and step<=self.max_iter:\n",
    "            sim.append(step)\n",
    "            for a in self.agents:\n",
    "                res.append(a.segMetric())\n",
    "            seg.append(np.mean(res))\n",
    "            self.oneMoveEach()\n",
    "            step=step + 1\n",
    "        return np.array(sim), np.array(seg)\n",
    "\n",
    "       \n",
    "    def __str__(self):\n",
    "        array=np.array(self.grid)\n",
    "        self.two_d=array.reshape((self.width,self.length))\n",
    "        return str(self.two_d)"
   ],
   "outputs": [],
   "execution_count": 25
  },
  {
   "cell_type": "code",
   "metadata": {
    "ExecuteTime": {
     "end_time": "2024-09-03T15:26:34.244223Z",
     "start_time": "2024-09-03T15:26:34.239898Z"
    }
   },
   "source": [
    "E_65=Environment(np.array([0,1,2]), np.array([.100,.675,.225]), .65)\n",
    "E_35=Environment(np.array([0,1,2]), np.array([.100,.675,.225]), .35)\n",
    "E_65.resetLine()\n",
    "E_35.resetLine()\n",
    "print(E_35)\n",
    "print(E_65)"
   ],
   "outputs": [
    {
     "name": "stdout",
     "output_type": "stream",
     "text": [
      "[[1. 1. 1. 2. 1. 2. 2. 1. 1. 1.]\n",
      " [2. 2. 1. 1. 1. 1. 0. 0. 1. 1.]\n",
      " [1. 0. 1. 0. 1. 0. 2. 1. 1. 1.]\n",
      " [1. 2. 1. 2. 0. 2. 1. 1. 1. 0.]\n",
      " [1. 2. 1. 1. 2. 1. 1. 1. 1. 1.]\n",
      " [0. 1. 1. 2. 1. 2. 1. 1. 1. 1.]\n",
      " [0. 1. 1. 0. 1. 2. 1. 1. 2. 0.]\n",
      " [1. 1. 1. 1. 2. 1. 2. 2. 1. 1.]\n",
      " [1. 1. 2. 1. 1. 1. 1. 1. 1. 2.]\n",
      " [1. 1. 1. 1. 2. 1. 2. 1. 1. 1.]]\n",
      "[[2. 1. 1. 2. 1. 1. 1. 1. 2. 2.]\n",
      " [0. 2. 2. 1. 1. 1. 0. 1. 1. 2.]\n",
      " [2. 2. 1. 2. 2. 2. 1. 0. 0. 1.]\n",
      " [0. 1. 1. 1. 1. 1. 1. 1. 1. 1.]\n",
      " [1. 0. 1. 1. 1. 0. 1. 1. 1. 1.]\n",
      " [1. 1. 0. 2. 1. 1. 1. 1. 2. 1.]\n",
      " [1. 1. 1. 1. 1. 2. 1. 1. 1. 2.]\n",
      " [1. 1. 1. 1. 2. 2. 2. 1. 1. 1.]\n",
      " [1. 2. 0. 1. 1. 0. 1. 1. 2. 1.]\n",
      " [1. 1. 1. 1. 2. 0. 1. 1. 1. 1.]]\n"
     ]
    }
   ],
   "execution_count": 26
  },
  {
   "metadata": {
    "ExecuteTime": {
     "end_time": "2024-09-03T15:26:34.250041Z",
     "start_time": "2024-09-03T15:26:34.244732Z"
    }
   },
   "cell_type": "code",
   "source": [
    "E_35.oneMoveEach()\n",
    "E_65.oneMoveEach()"
   ],
   "outputs": [],
   "execution_count": 27
  },
  {
   "metadata": {
    "ExecuteTime": {
     "end_time": "2024-09-03T15:26:34.253748Z",
     "start_time": "2024-09-03T15:26:34.251396Z"
    }
   },
   "cell_type": "code",
   "source": [
    "print(E_35)\n",
    "print(E_65)"
   ],
   "outputs": [
    {
     "name": "stdout",
     "output_type": "stream",
     "text": [
      "[[0. 1. 1. 2. 1. 2. 0. 1. 1. 1.]\n",
      " [2. 2. 1. 1. 1. 1. 2. 1. 1. 1.]\n",
      " [2. 2. 1. 2. 1. 1. 2. 1. 1. 1.]\n",
      " [1. 0. 1. 2. 0. 2. 1. 1. 1. 0.]\n",
      " [1. 2. 1. 1. 2. 1. 1. 1. 1. 1.]\n",
      " [2. 1. 1. 2. 1. 2. 1. 1. 1. 1.]\n",
      " [2. 1. 1. 2. 1. 2. 1. 1. 0. 2.]\n",
      " [1. 1. 1. 1. 2. 1. 0. 0. 1. 1.]\n",
      " [1. 1. 0. 1. 1. 1. 1. 1. 1. 2.]\n",
      " [1. 1. 1. 1. 0. 1. 0. 1. 1. 1.]]\n",
      "[[1. 2. 2. 1. 1. 1. 1. 2. 1. 2.]\n",
      " [1. 2. 1. 0. 1. 2. 1. 2. 1. 1.]\n",
      " [1. 1. 2. 1. 2. 2. 1. 1. 2. 1.]\n",
      " [2. 1. 2. 1. 1. 1. 2. 1. 1. 1.]\n",
      " [1. 2. 2. 1. 1. 2. 1. 1. 1. 1.]\n",
      " [1. 1. 1. 1. 1. 1. 1. 1. 1. 1.]\n",
      " [1. 1. 1. 2. 0. 1. 1. 1. 1. 2.]\n",
      " [1. 1. 1. 1. 1. 2. 1. 1. 1. 2.]\n",
      " [1. 2. 1. 0. 0. 1. 0. 1. 0. 1.]\n",
      " [1. 0. 0. 0. 0. 1. 0. 1. 1. 1.]]\n"
     ]
    }
   ],
   "execution_count": 28
  },
  {
   "metadata": {
    "ExecuteTime": {
     "end_time": "2024-09-03T15:26:37.671439Z",
     "start_time": "2024-09-03T15:26:34.260250Z"
    }
   },
   "cell_type": "code",
   "source": [
    "sim_65, reg_65 = E_65.runUntilConverged()\n",
    "sim_35, reg_35 = E_35.runUntilConverged()"
   ],
   "outputs": [],
   "execution_count": 29
  },
  {
   "metadata": {
    "ExecuteTime": {
     "end_time": "2024-09-03T15:26:37.769509Z",
     "start_time": "2024-09-03T15:26:37.672466Z"
    }
   },
   "cell_type": "code",
   "source": [
    "import matplotlib.pyplot as plt\n",
    "\n",
    "plt.figure(figsize=(6.5, 3.25))\n",
    "plt.plot(sim_65, reg_65, label='Threshold 0.65', color='blue')\n",
    "plt.plot(sim_35, reg_35, label='Threshold 0.35', color='orange', linestyle='--')\n",
    "plt.xlabel('Time (Number of Iterations)', fontsize=10, va='center_baseline')\n",
    "plt.ylabel('Average Segregation Measure', fontsize=10, va='center_baseline')\n",
    "plt.tick_params(axis='both', which='major', labelsize=8)\n",
    "plt.title('Evolution of Segregation Measure', fontsize=10)\n",
    "plt.legend(fontsize=10, loc='best')\n",
    "plt.grid(True)\n",
    "plt.savefig('Evolution of Segregation Measure.png')\n",
    "plt.show()"
   ],
   "outputs": [
    {
     "data": {
      "text/plain": [
       "<Figure size 650x325 with 1 Axes>"
      ],
      "image/png": "[encoded data removed]"
     },
     "metadata": {},
     "output_type": "display_data"
    }
   ],
   "execution_count": 30
  },
  {
   "metadata": {},
   "cell_type": "markdown",
   "source": [
    "## Problem 2\n",
    "<br>\n",
    "<p>Replicate the first two rows of Figure 1 and the first two rows of Column 1 of Table 2 in Gode & Sunder (1993)<p>"
   ]
  },
  {
   "metadata": {
    "ExecuteTime": {
     "end_time": "2024-09-03T15:26:37.773149Z",
     "start_time": "2024-09-03T15:26:37.770601Z"
    }
   },
   "cell_type": "code",
   "source": [
    "class Buyer:\n",
    "    # 6 Buyer has 36 goods plan to buy. We can number each good and \n",
    "    # set each of them a reservation value, above which it will not be traded\n",
    "\n",
    "    def __init__(self, maxValue):\n",
    "        self.Value = 0\n",
    "        self.Traded = 0 # record whether a good traded or not\n",
    "\n",
    "    \n",
    "    def formBidPrice(self, constrained, predictedPrice, maxValue):\n",
    "    # generate a bid offer depending if the simulation runs with or without a constraint\n",
    "        if constrained == 1:\n",
    "            potentialBid = self.Value - (np.random.rand() * (self.Value - 1))\n",
    "            bid = potentialBid\n",
    "        else:\n",
    "            potentialBid = np.random.rand() * (maxValue - 1)\n",
    "            bid = potentialBid\n",
    "        return bid"
   ],
   "outputs": [],
   "execution_count": 31
  },
  {
   "metadata": {
    "ExecuteTime": {
     "end_time": "2024-09-03T15:26:37.777050Z",
     "start_time": "2024-09-03T15:26:37.774509Z"
    }
   },
   "cell_type": "code",
   "source": [
    "class Seller:\n",
    "    # 6 Sellers has 36 goods plan to buy. We can number each good and \n",
    "    # set each of them a reservation value, below which it will not be traded\n",
    "\n",
    "    def __init__(self, maxCost):\n",
    "        self.Cost = 0\n",
    "        self.Traded = 0\n",
    "\n",
    "\n",
    "    def formAskPrice(self, constrained, predictedPrice, maxValue, maxCost):\n",
    "    # generate an ask offer depending if the simulation runs with or without a constraint\n",
    "        if constrained == 1:\n",
    "            potentialAsk = self.Cost + ((np.random.rand() * np.absolute(maxValue - self.Cost)))\n",
    "            ask = potentialAsk\n",
    "        else:\n",
    "            potentialAsk = np.random.rand() * (maxCost - 1)\n",
    "            ask = potentialAsk\n",
    "        return ask"
   ],
   "outputs": [],
   "execution_count": 32
  },
  {
   "metadata": {
    "ExecuteTime": {
     "end_time": "2024-09-03T15:26:37.780031Z",
     "start_time": "2024-09-03T15:26:37.777628Z"
    }
   },
   "cell_type": "code",
   "source": [
    "def initializeBook(maxCost):\n",
    "    # initialize order book variables. Record the best standing bid and ask,\n",
    "    # the ID of the best bidders (index number in buyer/seller vectors),\n",
    "    # transaction price (initialized to 0) and logical variables to determine\n",
    "    # if there currently is a standing bid or ask. Initially there are no best\n",
    "    # bidders, so index of each is 0. The order book vector also records the\n",
    "    # added value of a given trade (initialized to 0)\n",
    "\n",
    "    # First index is the best bid (initialized to 0)\n",
    "    # Second index is the best bid ID (initialized to 0, nobody)\n",
    "    # Third index is the logical variable for current bid (1 for true, initialized to 0)\n",
    "    # Fourth index is the best ask (initialized to the max cost for sellers)\n",
    "    # Fifth index is the best ask ID (initialized to 0, nobody)\n",
    "    # Sixth index is the logical variable for current ask (1 for true, initialized to 0).\n",
    "    # Seventh index is the transaction price (initialized to 0)\n",
    "    # Eight index is surplus added from a given trade (initially 0, no trade)\n",
    "\n",
    "    orderBookValues = [0, 0, 0, maxCost, 0, 0, 0, 0]\n",
    "    return orderBookValues"
   ],
   "outputs": [],
   "execution_count": 33
  },
  {
   "metadata": {
    "ExecuteTime": {
     "end_time": "2024-09-03T15:26:37.785768Z",
     "start_time": "2024-09-03T15:26:37.780673Z"
    }
   },
   "cell_type": "code",
   "source": [
    "def doTrade(buyers, sellers, bookValues, numberTraders, predictedPrice, constrained, maxValue, maxCost):\n",
    "    # operates the double auction order book. The function\n",
    "    # determines with 50% probability whether the next trader to submit an\n",
    "    # offer is a buyer or a seller. Then, it compares the new bid/ask and\n",
    "    # executes a trade if it satisfies the counterposing best standing offer,\n",
    "    # or it takes the place as best offer of its kind if it is better than the\n",
    "    # currently standing one (for example, if a new bid is submitted and it is\n",
    "    # higher than the best ask, a trade will occur, but if it's not higher than\n",
    "    # the best ask but higher than the best standing bid it will take its\n",
    "    # place. A similar process takes place if a seller submits an ask). The\n",
    "    # function returns an updated state of the order book to update simulation.\n",
    "\n",
    "    # initialize return vector to current book values\n",
    "    updatedValues = bookValues\n",
    "\n",
    "    # randomly choose between a buyer and a seller (below 0.5 we select a\n",
    "    # buyer, otherwise we select a seller).\n",
    "    traderDeterminer = np.random.rand()\n",
    "\n",
    "    # process as buyer\n",
    "    if traderDeterminer < 0.5:\n",
    "\n",
    "        # Initialize a new buyer (good) ID (at first 0)\n",
    "        newBuyer = -1\n",
    "\n",
    "        # choose a random buyer that has yet not traded,\n",
    "        # lock selection of a buyer in a while loop \n",
    "        # until it chooses a buyer that hasn't traded\n",
    "        while newBuyer == -1:\n",
    "            # Choose a random index in the buyers vector to select a buyer\n",
    "            randomIndex = np.random.randint(0, numberTraders)\n",
    "            if buyers[randomIndex].Traded == 0:\n",
    "                newBuyer = randomIndex\n",
    "\n",
    "        # make buyer generate a random bid based on its reservation price and\n",
    "        # simulation constraint\n",
    "        newBid = buyers[newBuyer].formBidPrice(constrained, predictedPrice, maxValue)\n",
    "\n",
    "        # do a trade if there is currently a standing ask that the bid can\n",
    "        # trade with. Check the logical variable and the value of the best\n",
    "        # standing ask\n",
    "        if (updatedValues[5] == 1) & (newBid > updatedValues[3]):\n",
    "            # set the transaction price to the best ask value\n",
    "            updatedValues[6] = updatedValues[3]\n",
    "            # record surplus added by the trade\n",
    "            updatedValues[7] = buyers[newBuyer].Value - sellers[updatedValues[4]].Cost\n",
    "            # update ID of buyer (good)\n",
    "            updatedValues[1] = newBuyer\n",
    "\n",
    "        # if the there is no trade, set the bid as best bid if it is higher\n",
    "        # than the currently standing best bid, even if it doesn't satisfy the\n",
    "        # ask or if there currently is no ask\n",
    "        else:\n",
    "            if newBid > updatedValues[0]:\n",
    "                # set new bid as best bid, and update the ID of bidder\n",
    "                updatedValues[0] = newBid\n",
    "                updatedValues[1] = newBuyer\n",
    "                # set logical variable for standing bid to true\n",
    "                updatedValues[2] = 1\n",
    "                # if new bid is lower than best bid, do nothing\n",
    "    # process a seller\n",
    "    else:\n",
    "        # initialize a new seller (good) ID (at first 0)\n",
    "        newSeller = -1\n",
    "        # choose a random seller that has yet not traded, \n",
    "        # lock selection of a seller in a while loop\n",
    "        #  until it chooses a seller that hasn't traded\n",
    "        while newSeller == -1:\n",
    "            # choose a random index in the sellers vector to select a seller\n",
    "            randomIndex = np.random.randint(0, numberTraders)\n",
    "            if sellers[randomIndex].Traded == 0:\n",
    "                newSeller = randomIndex\n",
    "\n",
    "        # make seller generate a random ask based on its reservation cost and\n",
    "        # simulation constraint\n",
    "        newAsk = sellers[newSeller].formAskPrice(constrained, predictedPrice, maxValue, maxCost)\n",
    "\n",
    "        # ddo a trade if there is currently a standing bid that the ask can\n",
    "        # trade with. Check the logical variable and the value of the best\n",
    "        # standing bid\n",
    "        if (updatedValues[2] == 1) & (updatedValues[0] > newAsk):\n",
    "            # set the transaction price to the best bid value\n",
    "            updatedValues[6] = updatedValues[0]\n",
    "            # record surplus added by the trade\n",
    "            updatedValues[7] = buyers[updatedValues[1]].Value - sellers[newSeller].Cost\n",
    "            # record ID of seller\n",
    "            updatedValues[4] = newSeller\n",
    "        # if the there is no trade, set the ask as best ask if it is lower\n",
    "        # than the currently standing best ask, even if it doesn't satisfy the\n",
    "        # bid or if there currently is no bid\n",
    "        else:\n",
    "            if newAsk < updatedValues[3]:\n",
    "                # set new ask as best ask, and update the ID of bidder\n",
    "                updatedValues[3] = newAsk\n",
    "                updatedValues[4] = newSeller\n",
    "                # set logical variable for standing ask to true\n",
    "                updatedValues[5] = 1\n",
    "                # if new ask is higher than best ask, do nothing\n",
    "\n",
    "    return updatedValues"
   ],
   "outputs": [],
   "execution_count": 34
  },
  {
   "metadata": {
    "ExecuteTime": {
     "end_time": "2024-09-03T15:26:37.795270Z",
     "start_time": "2024-09-03T15:26:37.786419Z"
    }
   },
   "cell_type": "code",
   "source": [
    "import matplotlib.pyplot as plt\n",
    "\n",
    "numberTraders = 36 \n",
    "\n",
    "refresh = True\n",
    "\n",
    "maxValue = 200 \n",
    "maxCost = 200\n",
    "\n",
    "round = 6\n",
    "iterations = 3000\n",
    "\n",
    "# initialize all buyers to not traded state and \n",
    "# give a reservation value to each good\n",
    "buyers = []    \n",
    "for i in range(numberTraders):\n",
    "    buyers.append(Buyer(maxValue))\n",
    "    \n",
    "valueVec = [100] * 6 + [95] * 6 + [90] * 6 + [85] * 6 + [80] * 6 + [75] * 6\n",
    "for i in range(numberTraders):\n",
    "    buyers[i].Value = valueVec[i]\n",
    "    buyers[i].Traded = 0\n",
    "\n",
    "# initialize all buyers to not traded state and \n",
    "# give a reservation value to each good\n",
    "sellers = []\n",
    "for i in range(numberTraders):\n",
    "    sellers.append(Seller(maxCost))\n",
    "    \n",
    "costVec = [40] * 6 + [50] * 6 + [60] * 6 + [70] * 6 + [80] * 6 + [90] * 6\n",
    "for i in range(numberTraders):\n",
    "    sellers[i].Cost = costVec[i]\n",
    "    sellers[i].Traded = 0\n",
    "\n",
    "    \n",
    "# sort values to calculate equilibrium values and to \n",
    "# later plot demand and supply curves\n",
    "# given unconstrained condition\n",
    "buyerValues_0 = []\n",
    "for i in range(numberTraders):\n",
    "    buyerValues_0.append(buyers[i].Value)\n",
    "buyerValues_0.sort(reverse = True)\n",
    "\n",
    "sellerCosts_0 = []\n",
    "for i in range(numberTraders):\n",
    "    sellerCosts_0.append(sellers[i].Cost)\n",
    "sellerCosts_0.sort()\n",
    "    \n",
    "# compute theoretical equilibrium\n",
    "predictedPrice = 0\n",
    "predictedQuantity = 0\n",
    "\n",
    "for i in range(numberTraders):\n",
    "    # if value of buyer is greater than cost of seller, there is a trade.\n",
    "    # Then, quantity increases by one, there are gains for trade (surplus)\n",
    "    # and the price is updated\n",
    "    if (buyerValues_0[i] - sellerCosts_0[i]) > 0:\n",
    "        predictedPrice = (buyerValues_0[i] + sellerCosts_0[i]) /2\n",
    "        predictedQuantity = predictedQuantity + 1\n",
    "        \n",
    "# initialize the order book vector\n",
    "orderBookValues = initializeBook(maxCost)\n",
    "\n",
    "# initialize vector with transaction prices (update as iterations execute)\n",
    "# let the length of the vector be the maximum number of iterations, then\n",
    "# discard leftover indexes initialized to zero\n",
    "alltp_0 = []\n",
    "transactionPrices_0 = []\n",
    "\n",
    "# initial surplus is 0\n",
    "surplus_0 = 0\n",
    "\n",
    "# initial quantity traded is 0\n",
    "quantity = 0\n",
    "\n",
    "tradedValues = []\n",
    "tradedCosts  = []\n",
    "\n",
    "for r in range(round):\n",
    "    for i in range(iterations):\n",
    "    # stop the loop if all buyers and sellers have already traded. Note\n",
    "    # that if all buyers have traded, all sellers have traded, since each\n",
    "    # trader is allowed to trade only once\n",
    "        if sum(buyers.Traded for buyers in buyers) == numberTraders:\n",
    "            break\n",
    "    \n",
    "        # attempt a trade or a new bid/ask (report update if trade occurs)\n",
    "        orderBookValues = doTrade(buyers, sellers, orderBookValues, numberTraders, predictedPrice, 0, maxValue, maxCost)\n",
    "    \n",
    "        # record transaction price, update surplus and quantity, mark traders \n",
    "        # to record that they have traded, and reinitialize the order book\n",
    "        # if a trade occured\n",
    "        if orderBookValues[6] > 0:\n",
    "            transactionPrices_0.append(orderBookValues[6])\n",
    "            surplus_0 = surplus_0 + orderBookValues[7]\n",
    "            buyers[orderBookValues[1]].Traded = 1\n",
    "            sellers[orderBookValues[4]].Traded = 1\n",
    "            tradedValues.append(buyers[orderBookValues[1]].Value)\n",
    "            tradedCosts.append(sellers[orderBookValues[4]].Cost)\n",
    "            orderBookValues = initializeBook(maxCost)\n",
    "            quantity = quantity +1\n",
    "    alltp_0.extend(transactionPrices_0)    \n",
    "            # if refresh is True, then redraw values for all buyers and sellers\n",
    "            # this makes this as if at start with a complete refresh\n",
    "    if refresh:\n",
    "        for checkBuyer in buyers:\n",
    "            if(checkBuyer.Traded == 0):\n",
    "                checkBuyer.Value = valueVec[np.random.randint(numberTraders)]\n",
    "        for checkSeller in sellers:\n",
    "            if(checkSeller.Traded == 0):\n",
    "                checkSeller.Cost = costVec[np.random.randint(numberTraders)]\n",
    "\n",
    "# calculate simulation surplus as percentage of total possible surplus\n",
    "    if refresh:\n",
    "        tradedValnp = np.array(tradedValues)\n",
    "        tradedCostnp = np.array(tradedCosts)\n",
    "        tradedValnp = np.sort(tradedValnp)[::-1]\n",
    "        tradedCostnp.sort()\n",
    "        infraMarginal = (tradedValnp>tradedCostnp)\n",
    "        maximumSurplus_0 = np.sum(tradedValnp[infraMarginal]-tradedCostnp[infraMarginal])\n",
    "\n",
    "surplusPercentage_0 = surplus_0 / maximumSurplus_0 * 100.\n",
    "SimulationPrice = np.mean(transactionPrices_0[-50:])"
   ],
   "outputs": [],
   "execution_count": 35
  },
  {
   "metadata": {
    "ExecuteTime": {
     "end_time": "2024-09-03T15:26:37.886382Z",
     "start_time": "2024-09-03T15:26:37.796113Z"
    }
   },
   "cell_type": "code",
   "source": [
    "buyers = []    \n",
    "for i in range(numberTraders):\n",
    "    buyers.append(Buyer(maxValue))\n",
    "    \n",
    "valueVec = [100] * 6 + [95] * 6 + [90] * 6 + [85] * 6 + [80] * 6 + [75] * 6\n",
    "for i in range(numberTraders):\n",
    "    buyers[i].Value = valueVec[i]\n",
    "    buyers[i].Traded = 0\n",
    "\n",
    "sellers = []\n",
    "for i in range(numberTraders):\n",
    "    sellers.append(Seller(maxCost))\n",
    "    \n",
    "costVec = [40] * 6 + [50] * 6 + [60] * 6 + [70] * 6 + [80] * 6 + [90] * 6\n",
    "for i in range(numberTraders):\n",
    "    sellers[i].Cost = costVec[i]\n",
    "    sellers[i].Traded = 0\n",
    "\n",
    "buyerValues_1 = []\n",
    "for i in range(numberTraders):\n",
    "    buyerValues_1.append(buyers[i].Value)\n",
    "buyerValues_1.sort(reverse = True)\n",
    "\n",
    "sellerCosts_1 = []\n",
    "for i in range(numberTraders):\n",
    "    sellerCosts_1.append(sellers[i].Cost)\n",
    "sellerCosts_1.sort()\n",
    "    \n",
    "# compute theoretical equilibrium\n",
    "predictedPrice = 0\n",
    "predictedQuantity = 0\n",
    "\n",
    "for i in range(numberTraders):\n",
    "    if (buyerValues_0[i] - sellerCosts_0[i]) > 0:\n",
    "        predictedPrice = (buyerValues_0[i] + sellerCosts_0[i]) /2\n",
    "        predictedQuantity = predictedQuantity + 1\n",
    "        \n",
    "orderBookValues = initializeBook(maxCost)\n",
    "\n",
    "alltp_1 = []\n",
    "transactionPrices_1 = []\n",
    "\n",
    "surplus_1 = 0\n",
    "\n",
    "quantity = 0\n",
    "\n",
    "tradedValues = []\n",
    "tradedCosts  = []\n",
    "\n",
    "for r in range(round):\n",
    "    for i in range(iterations):\n",
    "        if sum(buyers.Traded for buyers in buyers) == numberTraders:\n",
    "            break\n",
    "    \n",
    "        orderBookValues = doTrade(buyers, sellers, orderBookValues, numberTraders, predictedPrice, 1, maxValue, maxCost)\n",
    "    \n",
    "        if orderBookValues[6] > 0:\n",
    "            transactionPrices_1.append(orderBookValues[6])\n",
    "            surplus_1 = surplus_1 + orderBookValues[7]\n",
    "            buyers[orderBookValues[1]].Traded = 1\n",
    "            sellers[orderBookValues[4]].Traded = 1\n",
    "            tradedValues.append(buyers[orderBookValues[1]].Value)\n",
    "            tradedCosts.append(sellers[orderBookValues[4]].Cost)\n",
    "            orderBookValues = initializeBook(maxCost)\n",
    "            quantity = quantity +1\n",
    "    alltp_1.extend(transactionPrices_1)    \n",
    "\n",
    "    if refresh:\n",
    "        for checkBuyer in buyers:\n",
    "            if(checkBuyer.Traded == 0):\n",
    "                checkBuyer.Value = valueVec[np.random.randint(numberTraders)]\n",
    "        for checkSeller in sellers:\n",
    "            if(checkSeller.Traded == 0):\n",
    "                checkSeller.Cost = costVec[np.random.randint(numberTraders)]\n",
    "\n",
    "    if refresh:\n",
    "        tradedValnp = np.array(tradedValues)\n",
    "        tradedCostnp = np.array(tradedCosts)\n",
    "        tradedValnp = np.sort(tradedValnp)[::-1]\n",
    "        tradedCostnp.sort()\n",
    "        infraMarginal = (tradedValnp>tradedCostnp)\n",
    "        maximumSurplus_1 = np.sum(tradedValnp[infraMarginal]-tradedCostnp[infraMarginal])\n",
    "\n",
    "\n",
    "surplusPercentage_1 = surplus_1 / maximumSurplus_1 * 100.\n",
    "SimulationPrice = np.mean(transactionPrices_1[-50:])"
   ],
   "outputs": [],
   "execution_count": 36
  },
  {
   "metadata": {
    "ExecuteTime": {
     "end_time": "2024-09-03T15:26:38.106290Z",
     "start_time": "2024-09-03T15:26:37.887058Z"
    }
   },
   "cell_type": "code",
   "source": [
    "# replicate the first two rows of Figure 1\n",
    "x0Price = [1*x for x in range(len(alltp_0))]\n",
    "x1Price = [1*x for x in range(len(alltp_1))]\n",
    "x = [1*x for x in range(numberTraders)]\n",
    "fig, axs = plt.subplots(2, 2, figsize=(6.5, 3.25))\n",
    "\n",
    "axs[0, 0].plot(x, buyerValues_0, 'blue',linewidth=0.8)\n",
    "axs[0, 0].plot(x, sellerCosts_0, 'orange',linewidth=0.8)\n",
    "axs[0, 0].plot([predictedQuantity, predictedQuantity], [0, predictedPrice], linestyle='--', color='black',linewidth=0.8)\n",
    "axs[0, 0].plot([0, predictedQuantity], [predictedPrice, predictedPrice], linestyle='--', color='black',linewidth=0.8)\n",
    "axs[0, 0].set_ylim(0, 200)\n",
    "axs[0, 0].set_ylabel('Price',fontsize=8)\n",
    "axs[0, 0].tick_params(axis='both', which='major', labelsize=8)\n",
    "axs[0, 0].grid()\n",
    "\n",
    "axs[0, 1].plot(x0Price, alltp_0, 'k',linewidth=0.8)\n",
    "axs[0, 1].plot(x0Price, np.full_like(x0Price,predictedPrice), linestyle='--', color='black',linewidth=0.8)\n",
    "axs[0, 1].set_ylim(0, 200)\n",
    "axs[0, 1].set_xticks(ticks = [0,35,71,104,143,179], labels = ['1st', '2nd', '3rd', '4th', '5th', '6th'])\n",
    "axs[0, 1].set_title('ZI Traders without Budget Constraint', fontsize=8)\n",
    "axs[0, 1].tick_params(axis='both', which='major', labelsize=8)\n",
    "axs[0, 1].grid()\n",
    "\n",
    "axs[1, 0].plot(x, buyerValues_1, 'blue',linewidth=0.8)\n",
    "axs[1, 0].plot(x, sellerCosts_1, 'orange',linewidth=0.8)\n",
    "axs[1, 0].plot([predictedQuantity, predictedQuantity], [0, predictedPrice], linestyle='--', color='black',linewidth=0.8)\n",
    "axs[1, 0].plot([0, predictedQuantity], [predictedPrice, predictedPrice], linestyle='--', color='black',linewidth=0.8)\n",
    "axs[1, 0].set_ylim(0, 200)\n",
    "axs[1, 0].set_xlabel('Quantity',fontsize=8)\n",
    "axs[1, 0].set_ylabel('Price',fontsize=8)\n",
    "axs[1, 0].tick_params(axis='both', which='major', labelsize=8)\n",
    "axs[1, 0].grid()\n",
    "\n",
    "axs[1, 1].plot(x1Price, alltp_1, 'k',linewidth=0.8)\n",
    "axs[1, 1].plot(x1Price, np.full_like(x1Price,predictedPrice), linestyle='--', color='black',linewidth=0.8)\n",
    "axs[1, 1].set_ylim(0, 200)\n",
    "axs[1, 1].set_xticks(ticks = [0,35,71,104,143,179], labels = ['1st', '2nd', '3rd', '4th', '5th', '6th'])\n",
    "axs[1, 1].set_title('ZI Traders with Budget Constraint', fontsize=8)\n",
    "axs[1, 1].set_xlabel('Round',fontsize=8)\n",
    "axs[1, 1].tick_params(axis='both', which='major', labelsize=8)\n",
    "axs[1, 1].grid()\n",
    "\n",
    "plt.tight_layout()\n",
    "plt.savefig('The First Two Rows of Figure 1.png')\n",
    "plt.show()"
   ],
   "outputs": [
    {
     "data": {
      "text/plain": [
       "<Figure size 650x325 with 4 Axes>"
      ],
      "image/png": "[encoded data removed]"
     },
     "metadata": {},
     "output_type": "display_data"
    }
   ],
   "execution_count": 37
  },
  {
   "metadata": {
    "ExecuteTime": {
     "end_time": "2024-09-03T15:26:38.110738Z",
     "start_time": "2024-09-03T15:26:38.108241Z"
    }
   },
   "cell_type": "code",
   "source": [
    "# Replicate the first two rows of Column 1 of Table 2 in Gode & Sunder (1993)\n",
    "print('Results:')\n",
    "print('The equilibrium quantity is '+str(predictedQuantity)+', and equilibrium quantity price is '+ str(predictedPrice)[0:5]) \n",
    "print('The efficiency of the ZI_U market is '+str(surplusPercentage_0)[0:5])\n",
    "print('The efficiency of the ZI_C market is '+str(surplusPercentage_1)[0:5])"
   ],
   "outputs": [
    {
     "name": "stdout",
     "output_type": "stream",
     "text": [
      "Results:\n",
      "The equilibrium quantity is 24, and equilibrium quantity price is 77.5\n",
      "The efficiency of the ZI_U market is 90.0\n",
      "The efficiency of the ZI_C market is 98.61\n",
      "900\n"
     ]
    }
   ],
   "execution_count": 38
  },
  {
   "metadata": {
    "ExecuteTime": {
     "end_time": "2024-09-03T15:26:38.113201Z",
     "start_time": "2024-09-03T15:26:38.111613Z"
    }
   },
   "cell_type": "code",
   "source": "",
   "outputs": [],
   "execution_count": 38
  }
 ],
 "metadata": {
  "kernelspec": {
   "display_name": "Python 3",
   "language": "python",
   "name": "python3"
  },
  "language_info": {
   "codemirror_mode": {
    "name": "ipython",
    "version": 3
   },
   "file_extension": ".py",
   "mimetype": "text/x-python",
   "name": "python",
   "nbconvert_exporter": "python",
   "pygments_lexer": "ipython3",
   "version": "3.8.8"
  }
 },
 "nbformat": 4,
 "nbformat_minor": 2
}
